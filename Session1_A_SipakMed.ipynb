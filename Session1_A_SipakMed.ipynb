{
  "nbformat": 4,
  "nbformat_minor": 0,
  "metadata": {
    "colab": {
      "provenance": [],
      "gpuType": "T4",
      "include_colab_link": true
    },
    "kernelspec": {
      "name": "python3",
      "display_name": "Python 3"
    },
    "language_info": {
      "name": "python"
    },
    "accelerator": "GPU"
  },
  "cells": [
    {
      "cell_type": "markdown",
      "metadata": {
        "id": "view-in-github",
        "colab_type": "text"
      },
      "source": [
        "<a href=\"https://colab.research.google.com/github/RamanRed/ACM/blob/master/Session1_A_SipakMed.ipynb\" target=\"_parent\"><img src=\"https://colab.research.google.com/assets/colab-badge.svg\" alt=\"Open In Colab\"/></a>"
      ]
    },
    {
      "cell_type": "code",
      "execution_count": 1,
      "metadata": {
        "id": "15OkoZN_agsg",
        "colab": {
          "base_uri": "https://localhost:8080/"
        },
        "outputId": "8ba30717-c329-4f7f-b001-ab35a488b159"
      },
      "outputs": [
        {
          "output_type": "stream",
          "name": "stdout",
          "text": [
            "Drive already mounted at /content/drive; to attempt to forcibly remount, call drive.mount(\"/content/drive\", force_remount=True).\n"
          ]
        }
      ],
      "source": [
        "from google.colab import drive\n",
        "drive.mount('/content/drive')\n"
      ]
    },
    {
      "cell_type": "code",
      "source": [
        "import os\n",
        "print(os.listdir('/content/drive'))\n",
        "print(os.listdir('/content/drive/MyDrive/Colab Notebooks/SipakMed_5_Slide1'))\n"
      ],
      "metadata": {
        "colab": {
          "base_uri": "https://localhost:8080/"
        },
        "id": "4NGX7RxDDfRZ",
        "outputId": "93594244-86dd-427b-d3b9-783eb414b636"
      },
      "execution_count": 2,
      "outputs": [
        {
          "output_type": "stream",
          "name": "stdout",
          "text": [
            "['MyDrive', '.shortcut-targets-by-id', '.file-revisions-by-id', '.Trash-0', '.Encrypted']\n",
            "['link to share folder to my drive with shortcut.docx', 'Session2_A_LIME_implementation Executed.ipynb', 'Session1_A_SipakMed.ipynb', 'validation', 'train', 'test', 'model']\n"
          ]
        }
      ]
    },
    {
      "cell_type": "code",
      "source": [
        "from google.colab import drive\n",
        "drive.mount('/content/drive')"
      ],
      "metadata": {
        "colab": {
          "base_uri": "https://localhost:8080/"
        },
        "id": "yH30kXfAJfzY",
        "outputId": "56f4f767-d96f-42fa-cf7a-1275daec768a"
      },
      "execution_count": 3,
      "outputs": [
        {
          "output_type": "stream",
          "name": "stdout",
          "text": [
            "Drive already mounted at /content/drive; to attempt to forcibly remount, call drive.mount(\"/content/drive\", force_remount=True).\n"
          ]
        }
      ]
    },
    {
      "cell_type": "code",
      "source": [
        "import os\n",
        "shared_folder_path = '/content/drive/MyDrive/Colab Notebooks/SipakMed_5_Slide1' #change the dataset folder\n",
        "print(os.listdir(shared_folder_path))\n"
      ],
      "metadata": {
        "colab": {
          "base_uri": "https://localhost:8080/"
        },
        "id": "OwWB1QaFebi6",
        "outputId": "61ab8ecc-8371-4f6b-cb37-fafa75fea0fa"
      },
      "execution_count": 4,
      "outputs": [
        {
          "output_type": "stream",
          "name": "stdout",
          "text": [
            "['link to share folder to my drive with shortcut.docx', 'Session2_A_LIME_implementation Executed.ipynb', 'Session1_A_SipakMed.ipynb', 'validation', 'train', 'test', 'model']\n"
          ]
        }
      ]
    },
    {
      "cell_type": "code",
      "source": [
        "import torch\n",
        "import torch.nn as nn\n",
        "import torch.nn.functional as F\n",
        "import torch.optim as optim\n",
        "import torchvision\n",
        "import torchvision.transforms as transforms\n",
        "import torchvision.datasets as datasets\n",
        "from torch.utils.data import DataLoader\n",
        "import matplotlib.pyplot as plt\n",
        "import os\n"
      ],
      "metadata": {
        "id": "hfecSiMncp_k"
      },
      "execution_count": 5,
      "outputs": []
    },
    {
      "cell_type": "code",
      "source": [
        "\n",
        "train_path = f\"{shared_folder_path}/train\"\n",
        "validation_path = f\"{shared_folder_path}/validation\"\n"
      ],
      "metadata": {
        "id": "uvawd5Oibu6X"
      },
      "execution_count": 6,
      "outputs": []
    },
    {
      "cell_type": "code",
      "source": [
        "model_name = 'resnet18'\n",
        "no_class = 5\n",
        "epochs = 10\n"
      ],
      "metadata": {
        "id": "eQMN_M31cTXZ"
      },
      "execution_count": 7,
      "outputs": []
    },
    {
      "cell_type": "code",
      "source": [
        "# Model Selection\n",
        "if model_name == 'resnet18':\n",
        "    h, w = 224, 224\n",
        "    net = torchvision.models.resnet18()\n",
        "    net.fc = nn.Linear(net.fc.in_features, no_class)\n",
        "elif model_name=='resnet34':\n",
        "    h,w=224,224\n",
        "    net= torchvision.models.resnet34()\n",
        "    net.fc=nn.Linear(net.fc.in_features, no_class)"
      ],
      "metadata": {
        "id": "ELYWNPN6c2P6"
      },
      "execution_count": 8,
      "outputs": []
    },
    {
      "cell_type": "code",
      "source": [
        "# TRANSFORM\n",
        "transform = transforms.Compose([\n",
        "    transforms.Resize((h, w)),\n",
        "    transforms.ToTensor(),\n",
        "    transforms.Normalize(mean=[0.5, 0.5, 0.5], std=[0.5, 0.5, 0.5]),\n",
        "])"
      ],
      "metadata": {
        "id": "IQM-d2T2dIwj"
      },
      "execution_count": 9,
      "outputs": []
    },
    {
      "cell_type": "code",
      "source": [
        "# Load Data\n",
        "train_data = datasets.ImageFolder(train_path, transform)\n",
        "validation_data = datasets.ImageFolder(validation_path, transform)\n",
        "train_loader = DataLoader(train_data, batch_size=16, shuffle=True, num_workers=2)\n",
        "validation_loader = DataLoader(validation_data, batch_size=8, shuffle=False, num_workers=2)\n"
      ],
      "metadata": {
        "id": "RJSYQ7lWdNst"
      },
      "execution_count": null,
      "outputs": []
    },
    {
      "cell_type": "code",
      "source": [
        "device = torch.device(\"cuda\" if torch.cuda.is_available() else \"cpu\")\n",
        "net = net.to(device)\n"
      ],
      "metadata": {
        "id": "rof6dYAhfUNz"
      },
      "execution_count": null,
      "outputs": []
    },
    {
      "cell_type": "code",
      "source": [
        "# Loss and Optimizer\n",
        "criterion = nn.CrossEntropyLoss()\n",
        "optimizer = optim.Adam(net.parameters(), lr=0.0001)\n",
        "\n",
        "# Training Loop\n",
        "min_validation = float('inf')\n",
        "train_loss_vs_epoch = []\n",
        "validation_loss_vs_epoch = []\n",
        "save_path = f\"{shared_folder_path}/model\"\n",
        "os.makedirs(save_path, exist_ok=True)"
      ],
      "metadata": {
        "id": "S5FLmqBwfaph"
      },
      "execution_count": null,
      "outputs": []
    },
    {
      "cell_type": "code",
      "source": [
        "# Training Loop\n",
        "for epoch in range(epochs):\n",
        "    train_loss = 0.0\n",
        "    net.train()  # Enable training mode\n",
        "    print(f\"Epoch {epoch + 1}/{epochs}\")\n",
        "\n",
        "    # Training phase\n",
        "    for batch_idx, (inputs, labels) in enumerate(train_loader, 1):\n",
        "        inputs, labels = inputs.to(device), labels.to(device)\n",
        "        optimizer.zero_grad()\n",
        "\n",
        "        # Forward pass\n",
        "        outputs = net(inputs)\n",
        "        loss = criterion(outputs, labels)\n",
        "\n",
        "        # Backward pass\n",
        "        loss.backward()\n",
        "        optimizer.step()\n",
        "\n",
        "        train_loss += loss.item()\n",
        "        if batch_idx % 10 == 0:  # Log every 10 batches\n",
        "            print(f\"  Batch {batch_idx}/{len(train_loader)}: Loss = {loss.item():.6f}\")\n",
        "\n",
        "    avg_train_loss = train_loss / len(train_loader)\n",
        "    train_loss_vs_epoch.append(avg_train_loss)\n",
        "\n",
        "    # Validation phase\n",
        "    validation_loss = 0.0\n",
        "    net.eval()  # Enable evaluation mode\n",
        "    with torch.no_grad():\n",
        "        for inputs, labels in validation_loader:\n",
        "            inputs, labels = inputs.to(device), labels.to(device)\n",
        "\n",
        "            # Forward pass\n",
        "            outputs = net(inputs)\n",
        "            loss = criterion(outputs, labels)\n",
        "            validation_loss += loss.item()\n",
        "\n",
        "    avg_validation_loss = validation_loss / len(validation_loader)\n",
        "    validation_loss_vs_epoch.append(avg_validation_loss)\n",
        "\n",
        "    # Save the model if validation loss improves\n",
        "    if avg_validation_loss < min_validation:\n",
        "        min_validation = avg_validation_loss\n",
        "        torch.save(net, f\"{save_path}/{model_name}.pt\")\n",
        "        print(f\"Model saved with validation loss: {min_validation:.6f}\")\n",
        "\n",
        "    print(f\"[Epoch {epoch + 1}] Train Loss: {avg_train_loss:.6f}, Val Loss: {avg_validation_loss:.6f}\")\n",
        "\n",
        "# Plot and save loss curves\n",
        "plt.figure(figsize=(10, 5))\n",
        "plt.plot(train_loss_vs_epoch, 'r', label='Train Loss')\n",
        "plt.plot(validation_loss_vs_epoch, 'b', label='Validation Loss')\n",
        "plt.xlabel('Epoch')\n",
        "plt.ylabel('Loss')\n",
        "plt.title('Train vs Validation Loss')\n",
        "plt.legend()\n",
        "plt.grid(True)\n",
        "plt.savefig(f\"{save_path}/plot_{model_name}.png\")\n",
        "plt.show()\n"
      ],
      "metadata": {
        "colab": {
          "base_uri": "https://localhost:8080/",
          "height": 1000
        },
        "id": "YITo9pH-frSX",
        "outputId": "164164d5-0058-44b4-d9c2-65a278fd092e"
      },
      "execution_count": null,
      "outputs": [
        {
          "output_type": "stream",
          "name": "stdout",
          "text": [
            "Epoch 1/10\n",
            "  Batch 10/15: Loss = 1.176839\n",
            "Model saved with validation loss: 1.312111\n",
            "[Epoch 1] Train Loss: 1.271854, Val Loss: 1.312111\n",
            "Epoch 2/10\n",
            "  Batch 10/15: Loss = 0.563575\n",
            "Model saved with validation loss: 1.290828\n",
            "[Epoch 2] Train Loss: 0.735404, Val Loss: 1.290828\n",
            "Epoch 3/10\n",
            "  Batch 10/15: Loss = 0.288638\n",
            "Model saved with validation loss: 1.169583\n",
            "[Epoch 3] Train Loss: 0.576575, Val Loss: 1.169583\n",
            "Epoch 4/10\n",
            "  Batch 10/15: Loss = 0.548424\n",
            "Model saved with validation loss: 0.678718\n",
            "[Epoch 4] Train Loss: 0.407939, Val Loss: 0.678718\n",
            "Epoch 5/10\n",
            "  Batch 10/15: Loss = 0.615674\n",
            "[Epoch 5] Train Loss: 0.387401, Val Loss: 1.164985\n",
            "Epoch 6/10\n",
            "  Batch 10/15: Loss = 0.405372\n",
            "Model saved with validation loss: 0.583997\n",
            "[Epoch 6] Train Loss: 0.275924, Val Loss: 0.583997\n",
            "Epoch 7/10\n",
            "  Batch 10/15: Loss = 0.037540\n",
            "[Epoch 7] Train Loss: 0.273610, Val Loss: 0.705298\n",
            "Epoch 8/10\n",
            "  Batch 10/15: Loss = 0.182652\n",
            "[Epoch 8] Train Loss: 0.225962, Val Loss: 1.305520\n",
            "Epoch 9/10\n",
            "  Batch 10/15: Loss = 0.246083\n",
            "[Epoch 9] Train Loss: 0.220081, Val Loss: 1.030561\n",
            "Epoch 10/10\n",
            "  Batch 10/15: Loss = 0.132230\n",
            "[Epoch 10] Train Loss: 0.178994, Val Loss: 0.586356\n"
          ]
        },
        {
          "output_type": "display_data",
          "data": {
            "text/plain": [
              "<Figure size 1000x500 with 1 Axes>"
            ],
            "image/png": "[encoded data removed]"
          },
          "metadata": {}
        }
      ]
    }
  ]
}